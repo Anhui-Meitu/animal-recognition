{
 "cells": [
  {
   "cell_type": "code",
   "execution_count": null,
   "id": "9b9057e2",
   "metadata": {},
   "outputs": [
    {
     "name": "stderr",
     "output_type": "stream",
     "text": [
      "Processing images: 100%|██████████| 4896/4896 [01:59<00:00, 40.80image/s]\n"
     ]
    }
   ],
   "source": [
    "# categorize images into colour and infrared folders\n",
    "import os\n",
    "from os.path import join as pjoin, basename\n",
    "import sys\n",
    "from shutil import move\n",
    "from glob import glob\n",
    "\n",
    "import supervision as sv\n",
    "import cv2\n",
    "\n",
    "from colour_vs_infrared import is_infrared\n",
    "from constants import PROJECT_ROOT, DATA_DIR\n",
    "\n",
    "wfs_data_root = os.path.join(DATA_DIR, \"obj_Train_data\")\n",
    "\n",
    "from tqdm import tqdm\n",
    "\n",
    "os.makedirs(os.path.join(wfs_data_root, \"colour\"), exist_ok=True)\n",
    "os.makedirs(os.path.join(wfs_data_root, \"infrared\"), exist_ok=True)\n",
    "\n",
    "for image in tqdm(glob(os.path.join(wfs_data_root, \"*.jpg\")), desc=\"Processing images\", unit=\"image\"):\n",
    "    image_path = image\n",
    "    label_path = image_path.replace(\".jpg\", \".txt\")\n",
    "    if not os.path.exists(image_path):\n",
    "        print(f\"Image {image_path} does not exist.\")\n",
    "        continue\n",
    "    if is_infrared(image_path):\n",
    "        move(image_path, os.path.join(wfs_data_root, \"infrared\", basename(image_path)))\n",
    "        move(label_path, os.path.join(wfs_data_root, \"infrared\", basename(label_path)))\n",
    "    else:\n",
    "        move(image_path, os.path.join(wfs_data_root, \"colour\", basename(image_path)))\n",
    "        move(label_path, os.path.join(wfs_data_root, \"colour\", basename(label_path)))"
   ]
  },
  {
   "cell_type": "code",
   "execution_count": 5,
   "id": "38ce8bcd",
   "metadata": {},
   "outputs": [
    {
     "name": "stdout",
     "output_type": "stream",
     "text": [
      "Found 8467 label files.\n",
      "Categorizing labels...\n"
     ]
    },
    {
     "name": "stderr",
     "output_type": "stream",
     "text": [
      "Processing labels: 100%|██████████| 8467/8467 [00:02<00:00, 3447.90label/s]\n"
     ]
    }
   ],
   "source": [
    "# categorize images by their labels\n",
    "# if labels have any item id higher than 3, move to other folder\n",
    "from os import walk\n",
    "from os.path import isfile, join as pjoin\n",
    "from shutil import move\n",
    "from tqdm import tqdm\n",
    "\n",
    "from constants import PROJECT_ROOT, DATA_DIR\n",
    "\n",
    "# get label paths\n",
    "label_paths = []\n",
    "for root, dirs, files in os.walk(os.path.join(DATA_DIR, \"obj_Train_data\")):\n",
    "    for file in files:\n",
    "        if file.endswith(\".txt\"):\n",
    "            label_paths.append(os.path.join(root, file))\n",
    "\n",
    "print(f\"Found {len(label_paths)} label files.\")\n",
    "print(\"Categorizing labels...\")\n",
    "\n",
    "# create folders\n",
    "os.makedirs(os.path.join(DATA_DIR, \"obj_Test_data\", \"colour_other\"), exist_ok=True)\n",
    "os.makedirs(os.path.join(DATA_DIR, \"obj_Test_data\", \"infrared_other\"), exist_ok=True)\n",
    "os.makedirs(os.path.join(DATA_DIR, \"obj_Train_data\", \"colour_other\"), exist_ok=True)\n",
    "os.makedirs(os.path.join(DATA_DIR, \"obj_Train_data\", \"infrared_other\"), exist_ok=True)\n",
    "\n",
    "# categorize labels\n",
    "for label_path in tqdm(label_paths, desc=\"Processing labels\", unit=\"label\"):\n",
    "    with open(label_path, \"r\") as f:\n",
    "        lines = f.readlines()\n",
    "    image_path = label_path.replace(\".txt\", \".jpg\")\n",
    "    # check if any item id is higher than 3\n",
    "    if any(int(line.split()[0]) > 3 for line in lines):\n",
    "        # move to other folder\n",
    "        if \"obj_Test_data\" in label_path:\n",
    "            move(label_path, os.path.join(DATA_DIR, \"obj_Test_data\", \"colour_other\", basename(label_path)))\n",
    "            move(image_path, os.path.join(DATA_DIR, \"obj_Test_data\", \"colour_other\", basename(image_path)))\n",
    "        else:\n",
    "            move(label_path, os.path.join(DATA_DIR, \"obj_Train_data\", \"colour_other\", basename(label_path)))\n",
    "            move(image_path, os.path.join(DATA_DIR, \"obj_Train_data\", \"colour_other\", basename(image_path)))\n",
    "    else:\n",
    "        # move to normal folder\n",
    "        if \"obj_Test_data\" in label_path:\n",
    "            move(label_path, os.path.join(DATA_DIR, \"obj_Test_data\", \"colour\", basename(label_path)))\n",
    "            move(image_path, os.path.join(DATA_DIR, \"obj_Test_data\", \"colour\", basename(image_path)))\n",
    "        else:\n",
    "            move(label_path, os.path.join(DATA_DIR, \"obj_Train_data\", \"colour\", basename(label_path)))\n",
    "            move(image_path, os.path.join(DATA_DIR, \"obj_Train_data\", \"colour\", basename(image_path)))"
   ]
  }
 ],
 "metadata": {
  "kernelspec": {
   "display_name": "detect",
   "language": "python",
   "name": "python3"
  },
  "language_info": {
   "codemirror_mode": {
    "name": "ipython",
    "version": 3
   },
   "file_extension": ".py",
   "mimetype": "text/x-python",
   "name": "python",
   "nbconvert_exporter": "python",
   "pygments_lexer": "ipython3",
   "version": "3.12.9"
  }
 },
 "nbformat": 4,
 "nbformat_minor": 5
}
