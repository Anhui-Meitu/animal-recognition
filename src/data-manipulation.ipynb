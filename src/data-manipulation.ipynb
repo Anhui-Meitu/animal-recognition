{
 "cells": [
  {
   "cell_type": "code",
   "execution_count": null,
   "id": "9b9057e2",
   "metadata": {},
   "outputs": [],
   "source": [
    "import os\n",
    "import sys\n",
    "from shutil import move\n",
    "\n",
    "import colour_vs_infrared\n",
    "from constants import PROJECT_ROOT"
   ]
  },
  {
   "cell_type": "code",
   "execution_count": null,
   "id": "9db95e60",
   "metadata": {},
   "outputs": [],
   "source": []
  }
 ],
 "metadata": {
  "kernelspec": {
   "display_name": "detection",
   "language": "python",
   "name": "python3"
  },
  "language_info": {
   "name": "python",
   "version": "3.13.2"
  }
 },
 "nbformat": 4,
 "nbformat_minor": 5
}
